{
 "metadata": {
  "kernelspec": {
   "display_name": "SQL",
   "language": "sql",
   "name": "snowflake"
  },
  "language_info": {
   "name": "sql",
   "version": ""
  },
  "lastEditStatus": {
   "notebookId": "lfabif7vf5ncaircjyvo",
   "authorId": "513645605509",
   "authorName": "ADMIN",
   "authorEmail": "d.sanchezfernandez@snowflake.com",
   "sessionId": "117887bc-0d87-48e7-8677-717b9db441db",
   "lastEditTime": 1759775161347
  }
 },
 "nbformat_minor": 5,
 "nbformat": 4,
 "cells": [
  {
   "cell_type": "markdown",
   "id": "d41d4b1e-de1d-4121-8286-d78062100ff5",
   "metadata": {
    "name": "titulo_bienvenida",
    "collapsed": false
   },
   "source": [
    "# Rendimiento de consultas sobre 10 Terabytes en tablas Iceberg gestionadas por Snowflake\n",
    "\n",
    "## Tutorial TPC-DS: Micro-particiones y Data Clustering\n",
    "\n",
    "---\n",
    "\n",
    "### Bienvenido\n",
    "\n",
    "Este notebook es un tutorial práctico que demuestra las capacidades de rendimiento de Snowflake al ejecutar consultas analíticas complejas sobre un dataset de **10 Terabytes en formato Iceberg** utilizando el benchmark estándar de la industria **TPC-DS**.\n",
    "\n",
    "**Objetivos de aprendizaje:**\n",
    "1. Comprender el modelo de datos TPC-DS en formato Iceberg\n",
    "2. Entender las **micro-particiones** de Snowflake y su impacto en el rendimiento\n",
    "3. Dominar el **clustering de datos** para optimizar consultas en tablas Iceberg\n",
    "4. Ejecutar y analizar consultas del benchmark TPC-DS\n",
    "5. Medir y comparar el rendimiento con diferentes estrategias de optimización\n",
    "6. Comparar el comportamiento de tablas Iceberg vs formato nativo Snowflake\n",
    "\n",
    "**Referencias:**\n",
    "- [TPC-DS Sample Data](https://docs.snowflake.com/en/user-guide/sample-data-tpcds)\n",
    "- [TPC-DS Queries (99 queries)](https://docs.snowflake.com/en/_downloads/0eec2c68e78863a07eb994c85e76b188/tpc-ds-all-queries.sql)\n",
    "\n",
    "---"
   ]
  },
  {
   "cell_type": "markdown",
   "id": "c03baf55-28fb-4875-ba3b-6d9261a80d77",
   "metadata": {
    "name": "indice",
    "collapsed": false
   },
   "source": "## 📋 Índice\n\n1. [Introducción al TPC-DS con Tablas Iceberg](#1)\n2. [Configuración del Entorno](#2)\n3. [Micro-particiones en Snowflake](#3)\n4. [Data Clustering: Conceptos y Estrategias](#4)\n5. [Dataset TPC-DS 10TB Iceberg](#5)\n6. [Consultas de Benchmark](#6)\n7. [Mejores Prácticas](#10)"
  },
  {
   "cell_type": "markdown",
   "id": "1b4789d3-89cf-4dcb-91b8-da815119b7bd",
   "metadata": {
    "name": "intro_tpcds_iceberg",
    "collapsed": false
   },
   "source": "\n## 1. Introducción al TPC-DS con Tablas Iceberg\n\n**TPC-DS** (Transaction Processing Performance Council - Decision Support) es un benchmark estándar de la industria que modela un sistema de data warehouse de múltiples dimensiones.\n\n### Características del TPC-DS:\n- **24 tablas** (7 fact tables + 17 dimensions)\n- **99 consultas analíticas complejas**\n- Simula escenarios realistas de análisis de datos\n- Incluye JOINs complejos, agregaciones, subconsultas y CTEs\n\n### TPC-DS 10TB en formato Iceberg:\n\nSnowflake ofrece el dataset TPC-DS en dos formatos:\n1. **Formato nativo Snowflake** (`TPCDS_SF10TCL`)\n2. **Managed Iceberg Tables** (`TPCDS_SF10TCL` en Iceberg) ← **Usaremos este**\n\n### ¿Por qué Iceberg?\n\n- **Formato abierto**: Apache Iceberg es un estándar open-source\n- **Interoperabilidad**: Los datos pueden ser accedidos por múltiples engines (Spark, Trino, etc.)\n- **Time travel**: Historial completo de versiones de datos\n- **Schema evolution**: Cambios de schema sin reescribir datos\n- **Performance**: Optimizaciones similares a formato nativo Snowflake\n\n### Dataset de 10TB Iceberg:\n- Scale Factor: **10,000 GB (10 TB)**\n- **65 millones de clientes**\n- **400,000+ productos**\n- Tabla principal (STORE_SALES): **~29 mil millones de filas**\n- Total fact tables: **56+ mil millones de filas**\n- **3 canales de venta**: tiendas físicas, catálogo, web\n- **5 años de datos** de ventas\n\n![Logo de Snowflake](https://media.licdn.com/dms/image/v2/D5612AQFX40GrSqn35w/article-inline_image-shrink_1000_1488/article-inline_image-shrink_1000_1488/0/1654724687488?e=1760572800&v=beta&t=3rVQ99DdWK2G6xxw_Mr4m59PQ3Ux6aDD1mPBGAzDEZ8)\n\n📚 **Documentación oficial**: [Sample Data: TPC-DS](https://docs.snowflake.com/en/user-guide/sample-data-tpcds)"
  },
  {
   "cell_type": "markdown",
   "id": "d4b0bcb3-5ca1-4c0e-9035-3a4c5dd25f95",
   "metadata": {
    "name": "config_header",
    "collapsed": false
   },
   "source": "\n## 2. Configuración del Entorno\n\nConfiguraremos el entorno de Snowflake para trabajar con el dataset TPC-DS 10TB en formato **Managed Iceberg**."
  },
  {
   "cell_type": "code",
   "execution_count": null,
   "id": "0e082581-6f02-4ab3-bd01-2e4f85b1af1c",
   "metadata": {
    "language": "sql",
    "name": "config_inicial_sql"
   },
   "outputs": [],
   "source": "-- Configuración inicial\n-- Desactivar el uso de resultados en caché para mediciones precisas\nALTER SESSION SET USE_CACHED_RESULT = FALSE;\n\n-- Configurar el warehouse para rendimiento óptimo\n-- Para 10TB Iceberg se recomienda un warehouse M o superior\nUSE WAREHOUSE COMPUTE_WH;\n\nALTER WAREHOUSE SET WAREHOUSE_SIZE = MEDIUM;\n\n-- Verificar el warehouse actual y su tamaño\nSELECT \n    CURRENT_WAREHOUSE() AS warehouse_actual,\n    CURRENT_VERSION() AS snowflake_version,\n    'Recomendado: M o superior para 10TB' AS recomendacion;"
  },
  {
   "cell_type": "markdown",
   "id": "e429728d-7e64-4fcd-ac70-6d9c05d36c68",
   "metadata": {
    "name": "marketplace_instructions",
    "collapsed": false
   },
   "source": "### 2.1 Acceso al Dataset TPC-DS Iceberg desde Snowflake Marketplace\n\nSnowflake proporciona el dataset TPC-DS en formato Iceberg directamente desde el Marketplace.\n\n#### Pasos para obtener el dataset:\n\n1. En Snowflake UI, ve a **Data** → **Marketplace**\n2. Busca \"**TPC-DS 10 TB Managed Iceberg**\"\n3. Haz clic en **Get**\n4. Dale un nombre a la base de datos (`TPCDS_10TB_MANAGED_ICEBERG`)\n5. Selecciona el rol que tendrá acceso\n6. Haz clic en **Get it for Free**\n\n#### ⚠️ Importante:\n\n- El dataset Iceberg es **físicamente diferente** al formato nativo Snowflake\n- Los datos están almacenados en formato **Apache Iceberg**\n- Las micro-particiones funcionan de forma similar pero con metadata Iceberg\n- Puedes obtener AMBOS datasets (nativo + Iceberg) para comparar rendimiento\n\n**Documentación completa**: [Getting TPC-DS data from Snowflake Marketplace](https://docs.snowflake.com/en/user-guide/sample-data-tpcds#getting-tpc-ds-data-from-snowflake-marketplace)"
  },
  {
   "cell_type": "code",
   "execution_count": null,
   "id": "763e4e96-5ca3-4877-952a-bb09e09db4cc",
   "metadata": {
    "language": "sql",
    "name": "usar_database_iceberg"
   },
   "outputs": [],
   "source": "-- Configurar la base de datos TPC-DS Iceberg\n-- IMPORTANTE: Ajusta el nombre según lo configuraste en el Marketplace\n-- Por defecto, Snowflake la crea como TPCDS_10TB_MANAGED_ICEBERG\n\nUSE DATABASE TPCDS_10TB_MANAGED_ICEBERG;  -- Ajusta este nombre si es diferente\nUSE SCHEMA TPCDS_SF10T_ICEBERG;\n\n-- Verificar contexto actual\nSELECT \n    CURRENT_DATABASE() AS database_actual,\n    CURRENT_SCHEMA() AS schema_actual,\n    CURRENT_ROLE() AS rol_actual;"
  },
  {
   "cell_type": "code",
   "execution_count": null,
   "id": "8c00ebc6-c9db-484d-8b29-3ef98146058c",
   "metadata": {
    "language": "sql",
    "name": "listar_tablas"
   },
   "outputs": [],
   "source": [
    "-- Listar todas las tablas Iceberg disponibles\n",
    "SHOW TABLES;\n",
    "\n",
    "-- Verificar que son tablas Iceberg\n",
    "-- La columna 'kind' debería mostrar 'ICEBERG'"
   ]
  },
  {
   "cell_type": "code",
   "execution_count": null,
   "id": "3cc662df-c089-42f7-92af-0d2514cd59d1",
   "metadata": {
    "language": "sql",
    "name": "verificar_formato_iceberg"
   },
   "outputs": [],
   "source": "-- Verificar que estamos usando tablas en formato Iceberg\n-- Esto nos da información sobre el tipo de tabla y metadata\n\nSELECT \n    TABLE_CATALOG,\n    TABLE_SCHEMA,\n    TABLE_NAME,\n    TABLE_TYPE,\n    IS_ICEBERG,\n    ROW_COUNT,\n    BYTES\nFROM INFORMATION_SCHEMA.TABLES\nWHERE TABLE_SCHEMA = 'TPCDS_SF10T_ICEBERG'\nORDER BY ROW_COUNT DESC NULLS LAST\nLIMIT 10;"
  },
  {
   "cell_type": "code",
   "execution_count": null,
   "id": "6ccfaf46-4fe4-4da3-8550-f66958f72677",
   "metadata": {
    "language": "sql",
    "name": "verificar_tamano_dataset"
   },
   "outputs": [],
   "source": [
    "-- Verificar el tamaño del dataset Iceberg\n",
    "-- Conteo de filas en las principales tablas de hechos\n",
    "\n",
    "SELECT \n",
    "    'STORE_SALES' AS tabla,\n",
    "    COUNT(*) AS num_filas,\n",
    "    ROUND(COUNT(*) / 1000000000, 2) AS filas_mil_millones\n",
    "FROM STORE_SALES\n",
    "\n",
    "UNION ALL\n",
    "\n",
    "SELECT \n",
    "    'CATALOG_SALES' AS tabla,\n",
    "    COUNT(*) AS num_filas,\n",
    "    ROUND(COUNT(*) / 1000000000, 2) AS filas_mil_millones\n",
    "FROM CATALOG_SALES\n",
    "\n",
    "UNION ALL\n",
    "\n",
    "SELECT \n",
    "    'WEB_SALES' AS tabla,\n",
    "    COUNT(*) AS num_filas,\n",
    "    ROUND(COUNT(*) / 1000000000, 2) AS filas_mil_millones\n",
    "FROM WEB_SALES\n",
    "\n",
    "ORDER BY num_filas DESC;"
   ]
  },
  {
   "cell_type": "markdown",
   "id": "d03adb54-0cb2-4fba-93ca-bae88ad2ee63",
   "metadata": {
    "name": "microparticiones_header",
    "collapsed": false
   },
   "source": "\n## 3. Micro-particiones en Snowflake con Tablas Iceberg\n\n### ¿Qué son las Micro-particiones?\n\nLas **micro-particiones** son la unidad fundamental de almacenamiento de datos en Snowflake. Aunque las tablas Iceberg usan metadata Iceberg, Snowflake las gestiona internamente usando su arquitectura de micro-particiones.\n\n### Características clave:\n\n| Característica | Detalle | En Iceberg |\n|----------------|---------|------------|\n| **Tamaño** | 50-500 MB sin comprimir | Similar |\n| **Formato** | Columnar comprimido | Parquet (Iceberg) |\n| **Creación** | Automática | Automática |\n| **Inmutabilidad** | No se modifican | Compatible con Iceberg snapshots |\n| **Metadatos** | Min/max, null count | + Manifest files Iceberg |\n\n### Ventajas con tablas Iceberg:\n\n1. **Pruning eficiente**: Snowflake + metadata Iceberg = doble capa de optimización\n2. **Time travel nativo**: Iceberg snapshots integrados\n3. **Partition evolution**: Cambiar estrategia de particionamiento sin reescribir datos\n4. **Interoperabilidad**: Mismos datos accesibles desde otros engines\n\n### Arquitectura Iceberg en Snowflake:\n\n```\nTabla Iceberg 10TB\n        ↓\nMetadata Iceberg (manifest files, snapshots)\n        ↓\nMicro-particiones Snowflake (Parquet)\n        ↓\nQuery optimizer usa ambos niveles de metadata\n        ↓\nPruning ultra-eficiente\n```\n\n📚 **Documentación oficial**: \n- [Snowflake Micro-partitions](https://docs.snowflake.com/user-guide/tables-clustering-micropartitions)\n- [Iceberg Tables](https://docs.snowflake.com/user-guide/tables-iceberg)"
  },
  {
   "cell_type": "markdown",
   "id": "9708a312-8f91-4fed-b2ac-84c59ce5dfca",
   "metadata": {
    "name": "ejemplo_microparticiones"
   },
   "source": [
    "### 3.1 Ejemplo práctico: Visualización de Micro-particiones en Iceberg\n",
    "\n",
    "Veamos cómo Snowflake usa micro-particiones con tablas Iceberg en una consulta real."
   ]
  },
  {
   "cell_type": "code",
   "execution_count": null,
   "id": "8d7a3b2f-1a60-4838-b579-a2e4514716d4",
   "metadata": {
    "language": "sql",
    "name": "query_con_filtro"
   },
   "outputs": [],
   "source": [
    "-- Consulta simple con filtro en fecha sobre tabla Iceberg\n",
    "-- Snowflake automáticamente hace pruning usando metadata Iceberg + micro-particiones\n",
    "\n",
    "SELECT \n",
    "    SS_SOLD_DATE_SK,\n",
    "    COUNT(*) AS num_ventas,\n",
    "    SUM(SS_SALES_PRICE) AS ventas_totales,\n",
    "    AVG(SS_SALES_PRICE) AS precio_promedio,\n",
    "    SUM(SS_QUANTITY) AS unidades_vendidas\n",
    "FROM STORE_SALES\n",
    "WHERE SS_SOLD_DATE_SK BETWEEN 2451545 AND 2451575  -- Aproximadamente 1 mes\n",
    "GROUP BY SS_SOLD_DATE_SK\n",
    "ORDER BY SS_SOLD_DATE_SK\n",
    "LIMIT 100;"
   ]
  },
  {
   "cell_type": "markdown",
   "id": "bb0e447e-b49c-48d6-bc6d-a0811d061d0a",
   "metadata": {
    "name": "query_profile",
    "collapsed": false
   },
   "source": "### Analizar el plan de ejecución de la consulta anterior:\n- Haz clic en \"Query Details\" en la UI de Snowflake después de ejecutar\n\n### Observa en el Query Profile:\n-   1. \"Partitions scanned\" (934) vs \"Partitions total (82787)\"\n-   2. Porcentaje de pruning (debería ser muy alto > 98%)\n-   3. Bytes escaneados vs bytes totales\n-   4. Iceberg metadata used (específico de tablas Iceberg)\n\n![Logo de Snowflake](https://github.com/Snowflake-Spain-SE-Demos-Sandbox/TPC-DS-10-TB-Iceberg-Performance/blob/main/query1.jpg?raw=true)\n\n\n"
  },
  {
   "cell_type": "markdown",
   "id": "d8ab235c-f573-4445-8848-4fcef2cd9222",
   "metadata": {
    "name": "clustering_header",
    "collapsed": false
   },
   "source": "\n## 4. Data Clustering: Conceptos y Estrategias en Tablas Iceberg\n\n### ¿Qué es el Clustering en Tablas Iceberg?\n\nEl **clustering** en tablas Iceberg funciona de manera similar a las tablas nativas de Snowflake, pero con algunas diferencias importantes:\n\n### Clustering Natural vs Clustering Explícito\n\n| Aspecto | Tablas Nativas | Tablas Iceberg |\n|---------|----------------|----------------|\n| **Natural** | Orden de inserción | Orden de inserción + Iceberg partitioning |\n| **Explícito** | Clustering keys Snowflake | Clustering keys + Iceberg partition spec |\n| **Metadata** | Snowflake metadata | Iceberg manifest + Snowflake metadata |\n| **Re-clustering** | Automático | Automático (respeta estructura Iceberg) |\n\n### Métricas de Clustering\n\nSnowflake proporciona las mismas funciones de análisis:\n\n- **Clustering Depth**: Profundidad de solapamiento entre micro-particiones\n  - Valor bajo (1-4): Excelente clustering\n  - Valor alto (>100): Clustering pobre\n\n- **Clustering Ratio**: Porcentaje de datos bien organizados (0-100%)\n\n### Cuándo usar Clustering Keys en Iceberg:\n\n✅ **SÍ usar cuando:**\n- Tabla > 1TB (como STORE_SALES con 29B filas)\n- Consultas frecuentes con filtros en columnas específicas\n- Análisis muestra bajo pruning\n- Necesitas optimizar para patrones de acceso específicos\n\n❌ **NO usar cuando:**\n- Tabla < 1TB\n- Patrones de consulta muy variables\n- Ya tienes buen pruning natural (Iceberg puede ser suficiente)\n\n### Ventaja de Iceberg:\n\nLas tablas Iceberg ya vienen con una capa de organización (Iceberg partitioning), por lo que el pruning inicial suele ser mejor que en tablas nativas sin clustering.\n\n📚 **Documentación**: [Clustering Keys](https://docs.snowflake.com/user-guide/tables-clustering-micropartitions)"
  },
  {
   "cell_type": "code",
   "execution_count": null,
   "id": "0c2a806f-4fc3-4375-b8ab-9479053eae81",
   "metadata": {
    "language": "sql",
    "name": "clustering_info"
   },
   "outputs": [],
   "source": [
    "-- Analizar información de clustering de STORE_SALES (Iceberg)\n",
    "-- Esta función funciona igual en tablas Iceberg\n",
    "\n",
    "SELECT SYSTEM$CLUSTERING_INFORMATION('STORE_SALES') AS clustering_info;"
   ]
  },
  {
   "cell_type": "code",
   "execution_count": null,
   "id": "cf74d602-bb4f-4da3-b99f-44ec973b5702",
   "metadata": {
    "language": "sql",
    "name": "clustering_por_fecha"
   },
   "outputs": [],
   "source": [
    "-- Analizar clustering específico por columna fecha\n",
    "-- En TPC-DS, la fecha es típicamente la mejor columna para clustering\n",
    "\n",
    "SELECT SYSTEM$CLUSTERING_INFORMATION('STORE_SALES', '(SS_SOLD_DATE_SK)') AS clustering_por_fecha;"
   ]
  },
  {
   "cell_type": "code",
   "execution_count": null,
   "id": "6d47156d-c52a-4b5b-8625-367042091546",
   "metadata": {
    "language": "sql",
    "name": "clustering_multicolumna"
   },
   "outputs": [],
   "source": [
    "-- Analizar clustering con múltiples columnas\n",
    "-- Útil cuando las consultas filtran por fecha Y tienda\n",
    "\n",
    "SELECT SYSTEM$CLUSTERING_INFORMATION('STORE_SALES', '(SS_SOLD_DATE_SK, SS_STORE_SK)') AS clustering_fecha_tienda;"
   ]
  },
  {
   "cell_type": "markdown",
   "id": "c3e00216-9a3d-4a24-bbcc-9809308cee85",
   "metadata": {
    "name": "exploracion_dataset_header",
    "collapsed": false
   },
   "source": "\n## 5. Exploración del Dataset TPC-DS 10TB Iceberg\n\nExploremos la estructura y características del dataset."
  },
  {
   "cell_type": "code",
   "execution_count": null,
   "id": "07ee14e7-a00c-4284-ae65-15a1ce2a6d15",
   "metadata": {
    "language": "sql",
    "name": "tablas_fact"
   },
   "outputs": [],
   "source": [
    "-- Tablas de hechos (Fact Tables) en TPC-DS\n",
    "SELECT \n",
    "    'STORE_SALES' AS tabla_tipo_hechos,\n",
    "    'Ventas en tiendas físicas' AS descripcion,\n",
    "    '~29 mil millones de filas' AS escala\n",
    "UNION ALL\n",
    "SELECT 'CATALOG_SALES', 'Ventas por catálogo', '~14 mil millones'\n",
    "UNION ALL\n",
    "SELECT 'WEB_SALES', 'Ventas en línea', '~7 mil millones'\n",
    "UNION ALL\n",
    "SELECT 'STORE_RETURNS', 'Devoluciones de tiendas', 'Varía'\n",
    "UNION ALL\n",
    "SELECT 'CATALOG_RETURNS', 'Devoluciones de catálogo', 'Varía'\n",
    "UNION ALL\n",
    "SELECT 'WEB_RETURNS', 'Devoluciones web', 'Varía'\n",
    "UNION ALL\n",
    "SELECT 'INVENTORY', 'Inventario de productos', 'Varía';"
   ]
  },
  {
   "cell_type": "code",
   "execution_count": null,
   "id": "97f1ea58-66ad-4427-9236-efb113e322af",
   "metadata": {
    "language": "sql",
    "name": "tablas_dimension"
   },
   "outputs": [],
   "source": [
    "-- Tablas de dimensiones (Dimension Tables) - Principales\n",
    "SELECT \n",
    "    'CUSTOMER' AS tabla_dimension,\n",
    "    'Información de clientes (65M)' AS descripcion\n",
    "UNION ALL\n",
    "SELECT 'DATE_DIM', 'Dimensión temporal (18 años)'\n",
    "UNION ALL\n",
    "SELECT 'ITEM', 'Productos/artículos (400K+)'\n",
    "UNION ALL\n",
    "SELECT 'STORE', 'Tiendas físicas'\n",
    "UNION ALL\n",
    "SELECT 'PROMOTION', 'Promociones de marketing'\n",
    "UNION ALL\n",
    "SELECT 'HOUSEHOLD_DEMOGRAPHICS', 'Demografía de hogares'\n",
    "UNION ALL\n",
    "SELECT 'CUSTOMER_DEMOGRAPHICS', 'Demografía de clientes'\n",
    "UNION ALL\n",
    "SELECT 'WAREHOUSE', 'Almacenes';"
   ]
  },
  {
   "cell_type": "code",
   "execution_count": null,
   "id": "68029f8b-d4d5-4c0b-bfe0-9a60802c0bc3",
   "metadata": {
    "language": "sql",
    "name": "describe_store_sales"
   },
   "outputs": [],
   "source": [
    "-- Explorar la estructura de la tabla principal STORE_SALES (Iceberg)\n",
    "DESCRIBE TABLE STORE_SALES;"
   ]
  },
  {
   "cell_type": "markdown",
   "id": "628a6b78-1c3d-473a-94a6-23eb542068b8",
   "metadata": {
    "name": "benchmark_header",
    "collapsed": false
   },
   "source": "\n## 6. Consultas de Benchmark TPC-DS\n\nEjecutaremos una selección de las 99 consultas del benchmark TPC-DS sobre las tablas **Iceberg**.\n\n### Consultas seleccionadas:\n\n- **Query 96**: Filtros temporales y demográficos (pruning test)\n- **Query 7**: Agregaciones con múltiples JOINs\n- **Query 61**: Análisis de efectividad de promociones\n- **Query 57**: Outliers en call center (CTEs complejos)\n\n### ⏱️ Tiempo estimado por query:\n- Warehouse M: 1 minuto\n- Warehouse L: 30 segundos  \n- Warehouse XL: 15 segundos\n\n📄 [Todas las 99 queries](https://docs.snowflake.com/en/_downloads/0eec2c68e78863a07eb994c85e76b188/tpc-ds-all-queries.sql)"
  },
  {
   "cell_type": "markdown",
   "id": "28b93075-eb3e-42b4-85d1-a0e27eef813d",
   "metadata": {
    "name": "query96_header"
   },
   "source": [
    "### 6.1 Query 96: Conteo con filtros temporales y demográficos\n",
    "\n",
    "Esta consulta demuestra:\n",
    "- Filtrado por múltiples dimensiones (tiempo, demografía, tienda)\n",
    "- JOINs entre tabla de hechos Iceberg y dimensiones\n",
    "- Pruning de micro-particiones usando metadata Iceberg"
   ]
  },
  {
   "cell_type": "code",
   "execution_count": null,
   "id": "be4e4966-defc-4e11-9d69-8936a8c7ab54",
   "metadata": {
    "language": "sql",
    "name": "query96_ejecutar"
   },
   "outputs": [],
   "source": [
    "-- Query 96: Análisis de ventas por hora y demografía sobre tabla Iceberg\n",
    "SET query_start = CURRENT_TIMESTAMP();\n",
    "\n",
    "SELECT /* Query 96 - TPC-DS on Iceberg */\n",
    "    COUNT(*) AS num_transacciones\n",
    "FROM STORE_SALES\n",
    "    ,HOUSEHOLD_DEMOGRAPHICS\n",
    "    ,TIME_DIM\n",
    "    ,STORE\n",
    "WHERE SS_SOLD_TIME_SK = TIME_DIM.T_TIME_SK\n",
    "    AND SS_HDEMO_SK = HOUSEHOLD_DEMOGRAPHICS.HD_DEMO_SK\n",
    "    AND SS_STORE_SK = S_STORE_SK\n",
    "    AND TIME_DIM.T_HOUR = 8\n",
    "    AND TIME_DIM.T_MINUTE >= 30\n",
    "    AND HOUSEHOLD_DEMOGRAPHICS.HD_DEP_COUNT = 5\n",
    "    AND STORE.S_STORE_NAME = 'ese'\n",
    "ORDER BY COUNT(*)\n",
    "LIMIT 100;"
   ]
  },
  {
   "cell_type": "markdown",
   "id": "7a15777b-08cc-4971-b481-523b0c80c1ac",
   "metadata": {
    "name": "query7_header"
   },
   "source": [
    "### 6.2 Query 7: Agregaciones con promociones\n",
    "\n",
    "Esta consulta ejercita:\n",
    "- Múltiples JOINs (5 tablas)\n",
    "- Agregaciones (AVG) sobre datos Iceberg\n",
    "- Filtros complejos en múltiples dimensiones\n",
    "- GROUP BY con ORDER BY"
   ]
  },
  {
   "cell_type": "code",
   "execution_count": null,
   "id": "1e51aacb-9003-4d7c-bd65-a055fc6e3bf8",
   "metadata": {
    "language": "sql",
    "name": "query7_ejecutar"
   },
   "outputs": [],
   "source": [
    "-- Query 7: Análisis de items con filtros demográficos y promocionales\n",
    "SET query_start = CURRENT_TIMESTAMP();\n",
    "\n",
    "SELECT /* Query 7 - TPC-DS on Iceberg */\n",
    "    I_ITEM_ID,\n",
    "    AVG(SS_QUANTITY) AS agg1,\n",
    "    AVG(SS_LIST_PRICE) AS agg2,\n",
    "    AVG(SS_COUPON_AMT) AS agg3,\n",
    "    AVG(SS_SALES_PRICE) AS agg4\n",
    "FROM STORE_SALES, CUSTOMER_DEMOGRAPHICS, DATE_DIM, ITEM, PROMOTION\n",
    "WHERE SS_SOLD_DATE_SK = D_DATE_SK\n",
    "    AND SS_ITEM_SK = I_ITEM_SK\n",
    "    AND SS_CDEMO_SK = CD_DEMO_SK\n",
    "    AND SS_PROMO_SK = P_PROMO_SK\n",
    "    AND CD_GENDER = 'M'\n",
    "    AND CD_MARITAL_STATUS = 'M'\n",
    "    AND CD_EDUCATION_STATUS = '4 yr Degree'\n",
    "    AND (P_CHANNEL_EMAIL = 'N' OR P_CHANNEL_EVENT = 'N')\n",
    "    AND D_YEAR = 2001\n",
    "GROUP BY I_ITEM_ID\n",
    "ORDER BY I_ITEM_ID\n",
    "LIMIT 100;"
   ]
  },
  {
   "cell_type": "markdown",
   "id": "41ca5023-35f1-46ed-80b4-1e9426333477",
   "metadata": {
    "name": "query61_header"
   },
   "source": [
    "### 6.3 Query 61: Análisis de promociones\n",
    "\n",
    "Esta consulta demuestra:\n",
    "- Cálculos de ratios y porcentajes\n",
    "- Subconsultas en el FROM\n",
    "- Filtros complejos con ORs\n",
    "- Análisis de efectividad de canales de marketing"
   ]
  },
  {
   "cell_type": "code",
   "execution_count": null,
   "id": "663217ee-e92b-4a68-8ad4-d73921225734",
   "metadata": {
    "language": "sql",
    "name": "query61_ejecutar"
   },
   "outputs": [],
   "source": [
    "-- Query 61: Efectividad de promociones por canal\n",
    "SET query_start = CURRENT_TIMESTAMP();\n",
    "\n",
    "SELECT /* Query 61 - TPC-DS on Iceberg */\n",
    "    promotions,\n",
    "    total,\n",
    "    CAST(promotions AS DECIMAL(17,4)) / NULLIF(CAST(total AS DECIMAL(17,4)), 0) * 100 AS porcentaje_promociones\n",
    "FROM (\n",
    "    SELECT SUM(SS_EXT_SALES_PRICE) AS promotions\n",
    "    FROM STORE_SALES, STORE, PROMOTION, DATE_DIM, CUSTOMER, CUSTOMER_ADDRESS, ITEM\n",
    "    WHERE SS_SOLD_DATE_SK = D_DATE_SK\n",
    "        AND SS_STORE_SK = S_STORE_SK\n",
    "        AND SS_PROMO_SK = P_PROMO_SK\n",
    "        AND SS_CUSTOMER_SK = C_CUSTOMER_SK\n",
    "        AND CA_ADDRESS_SK = C_CURRENT_ADDR_SK\n",
    "        AND SS_ITEM_SK = I_ITEM_SK\n",
    "        AND CA_GMT_OFFSET = -6\n",
    "        AND I_CATEGORY = 'Sports'\n",
    "        AND (P_CHANNEL_DMAIL = 'Y' OR P_CHANNEL_EMAIL = 'Y' OR P_CHANNEL_TV = 'Y')\n",
    "        AND S_GMT_OFFSET = -6\n",
    "        AND D_YEAR = 1999\n",
    "        AND D_MOY = 11\n",
    ") promotional_sales,\n",
    "(\n",
    "    SELECT SUM(SS_EXT_SALES_PRICE) AS total\n",
    "    FROM STORE_SALES, STORE, DATE_DIM, CUSTOMER, CUSTOMER_ADDRESS, ITEM\n",
    "    WHERE SS_SOLD_DATE_SK = D_DATE_SK\n",
    "        AND SS_STORE_SK = S_STORE_SK\n",
    "        AND SS_CUSTOMER_SK = C_CUSTOMER_SK\n",
    "        AND CA_ADDRESS_SK = C_CURRENT_ADDR_SK\n",
    "        AND SS_ITEM_SK = I_ITEM_SK\n",
    "        AND CA_GMT_OFFSET = -6\n",
    "        AND I_CATEGORY = 'Sports'\n",
    "        AND S_GMT_OFFSET = -6\n",
    "        AND D_YEAR = 1999\n",
    "        AND D_MOY = 11\n",
    ") all_sales\n",
    "ORDER BY promotions, total\n",
    "LIMIT 100;"
   ]
  },
  {
   "cell_type": "markdown",
   "id": "cb5501eb-e2d6-4c34-9765-5686dfeb0ffc",
   "metadata": {
    "name": "mejores_practicas_header",
    "collapsed": false
   },
   "source": "\n## 7. Mejores Prácticas y Conclusiones\n\n### 🎯 Resumen de aprendizajes clave\n\n#### 1. Micro-particiones con Iceberg\n- **Doble capa de metadata**: Iceberg manifest files + Snowflake micro-partitions\n- **Pruning mejorado**: El pruning suele ser mejor out-of-the-box que tablas nativas\n- **Formato Parquet**: Compresión columnar eficiente\n- **Time travel nativo**: Snapshots Iceberg integrados\n\n#### 2. Data Clustering en Iceberg\n- **Cuándo aplicar**: Tablas > 1TB con patrones predecibles (como STORE_SALES)\n- **Columnas ideales**: Fechas (SS_SOLD_DATE_SK), foreign keys frecuentemente usados\n- **Mejoras típicas**: 20-70% en tiempo de ejecución\n- **Compatibilidad**: Clustering keys de Snowflake + Iceberg partition spec trabajan juntos\n\n#### 3. Escala de 10TB Iceberg\n- **Warehouses**: XL o superior recomendado para queries interactivas\n- **Performance**: Comparable a tablas nativas Snowflake\n- **Interoperabilidad**: Mismos datos accesibles desde Spark, Trino, etc.\n- **Evolución**: Schema evolution y partition evolution sin reescribir datos"
  },
  {
   "cell_type": "markdown",
   "id": "ffe96729-63c5-4571-82f7-e6fd9d481700",
   "metadata": {
    "name": "iceberg_vs_nativo"
   },
   "source": [
    "### 🔍 Iceberg vs Nativo Snowflake: Guía de decisión\n",
    "\n",
    "```\n",
    "¿Necesitas interoperabilidad con otros engines?\n",
    "    ↓ SÍ → Usar Iceberg\n",
    "    ↓ NO\n",
    "¿Necesitas time travel extenso y schema evolution?\n",
    "    ↓ SÍ → Considerar Iceberg\n",
    "    ↓ NO\n",
    "¿Performance es crítico y solo usas Snowflake?\n",
    "    ↓ SÍ → Nativo puede ser ligeramente más rápido\n",
    "    ↓ NO\n",
    "¿Quieres formato abierto y estándar?\n",
    "    ↓ SÍ → Usar Iceberg\n",
    "    ↓ NO → Ambos funcionan bien\n",
    "```\n",
    "\n",
    "### 💡 Conclusión sobre Iceberg:\n",
    "\n",
    "En TPC-DS 10TB, las tablas Iceberg ofrecen:\n",
    "- ✅ **Performance comparable** a tablas nativas (~95-105% del tiempo)\n",
    "- ✅ **Mejor pruning inicial** (metadata Iceberg + Snowflake)\n",
    "- ✅ **Flexibilidad** para acceso multi-engine\n",
    "- ✅ **Evolución de schema** sin interrupciones"
   ]
  },
  {
   "cell_type": "markdown",
   "id": "59950988-f7e4-4038-addc-67d53c7e5e7a",
   "metadata": {
    "name": "recursos_adicionales"
   },
   "source": [
    "### 📚 Recursos adicionales\n",
    "\n",
    "#### Documentación oficial\n",
    "- [Sample Data: TPC-DS](https://docs.snowflake.com/en/user-guide/sample-data-tpcds)\n",
    "- [Iceberg Tables in Snowflake](https://docs.snowflake.com/user-guide/tables-iceberg)\n",
    "- [Micro-partitions & Clustering](https://docs.snowflake.com/user-guide/tables-clustering-micropartitions)\n",
    "- [TPC-DS Sample Queries (99 queries)](https://docs.snowflake.com/en/_downloads/0eec2c68e78863a07eb994c85e76b188/tpc-ds-all-queries.sql)\n",
    "\n",
    "#### TPC-DS Benchmark\n",
    "- [TPC-DS Specification v3.2.0](http://tpc.org/tpc_documents_current_versions/pdf/tpc-ds_v3.2.0.pdf)\n",
    "- [TPC Benchmark Kit](http://www.tpc.org/tpc_documents_current_versions/current_specifications.asp)\n",
    "\n",
    "#### Apache Iceberg\n",
    "- [Apache Iceberg Documentation](https://iceberg.apache.org/docs/latest/)\n",
    "- [Iceberg Table Format Spec](https://iceberg.apache.org/spec/)"
   ]
  },
  {
   "cell_type": "markdown",
   "id": "20519508-c2dd-4586-aff9-08c8f82bc937",
   "metadata": {
    "name": "conclusion",
    "collapsed": false
   },
   "source": "---\n\n## ✅ Conclusión\n\nHas completado el tutorial de **Rendimiento de consultas sobre 10 Terabytes en tablas Iceberg** utilizando el benchmark TPC-DS.\n\n### Lo que has aprendido:\n✅ Arquitectura de micro-particiones de Snowflake con Iceberg  \n✅ Diferencias entre formato nativo Snowflake y Managed Iceberg  \n✅ Estrategias de data clustering para tablas Iceberg  \n✅ Ejecución y análisis de consultas TPC-DS en datasets masivos  \n✅ Interpretación de métricas de rendimiento y pruning  \n✅ Mejores prácticas para optimización de queries en Iceberg  \n\n### Resultados esperados:\n- ⚡ **Performance comparable** a tablas nativas Snowflake\n- 📉 **Excelente pruning** gracias a doble capa de metadata\n- 💰 **Flexibilidad** sin sacrificar rendimiento\n- 🎯 **Queries escalables** que mantienen performance en datasets crecientes\n- 🔄 **Interoperabilidad** con otros engines de consulta\n"
  }
 ]
}